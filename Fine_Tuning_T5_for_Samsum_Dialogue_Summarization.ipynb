{
  "nbformat": 4,
  "nbformat_minor": 0,
  "metadata": {
    "colab": {
      "provenance": [],
      "mount_file_id": "1qEoxC1cKePfmdeHrCJFlPSrKLnNbOVL8",
      "authorship_tag": "ABX9TyMyHxruHMU47QBgSXwEmJvx",
      "include_colab_link": true
    },
    "kernelspec": {
      "name": "python3",
      "display_name": "Python 3"
    },
    "language_info": {
      "name": "python"
    }
  },
  "cells": [
    {
      "cell_type": "markdown",
      "metadata": {
        "id": "view-in-github",
        "colab_type": "text"
      },
      "source": [
        "<a href=\"https://colab.research.google.com/github/saba-ramezani/Fine_Tuning_T5_for_Samsum_Dialogue_Summarization/blob/main/Fine_Tuning_T5_for_Samsum_Dialogue_Summarization.ipynb\" target=\"_parent\"><img src=\"https://colab.research.google.com/assets/colab-badge.svg\" alt=\"Open In Colab\"/></a>"
      ]
    },
    {
      "cell_type": "markdown",
      "source": [
        "# Fine Tuning T5 for Samsum Dialogue Summarization"
      ],
      "metadata": {
        "id": "xHWmPWTwVURR"
      }
    },
    {
      "cell_type": "code",
      "source": [
        "# !pip install -U transformers\n",
        "# !pip install -U accelerate\n",
        "# !pip install -U datasets\n",
        "# !pip install -U bertviz\n",
        "# !pip install -U umap-learn\n",
        "# !pip install -U sentencepiece\n",
        "# !pip install -U urllib3\n",
        "# !pip install py7zr"
      ],
      "metadata": {
        "id": "hk-3VSBGWivN"
      },
      "execution_count": null,
      "outputs": []
    },
    {
      "cell_type": "code",
      "source": [
        "import warnings\n",
        "warnings.filterwarnings('ignore')"
      ],
      "metadata": {
        "id": "OsiYMyrcXds2"
      },
      "execution_count": 11,
      "outputs": []
    },
    {
      "cell_type": "markdown",
      "source": [
        "## Benchmarking Bart & T5 on a sample from CNN-Dailymail dataset"
      ],
      "metadata": {
        "id": "5aTlvVyDWWP5"
      }
    },
    {
      "cell_type": "code",
      "source": [
        "from datasets import load_dataset\n",
        "\n",
        "dataset = load_dataset(\"cnn_dailymail\", '3.0.0', split=\"train[:10]\")"
      ],
      "metadata": {
        "id": "k539TlbbWeRB"
      },
      "execution_count": 12,
      "outputs": []
    },
    {
      "cell_type": "code",
      "source": [
        "print(dataset[0]['article'])\n",
        "print(\"\\nSummary:\\n\")\n",
        "print(dataset[0]['highlights'])"
      ],
      "metadata": {
        "colab": {
          "base_uri": "https://localhost:8080/"
        },
        "id": "2co7NOeRXhBZ",
        "outputId": "bae0f8ce-14a6-41af-869c-63c38839a60f"
      },
      "execution_count": 13,
      "outputs": [
        {
          "output_type": "stream",
          "name": "stdout",
          "text": [
            "LONDON, England (Reuters) -- Harry Potter star Daniel Radcliffe gains access to a reported £20 million ($41.1 million) fortune as he turns 18 on Monday, but he insists the money won't cast a spell on him. Daniel Radcliffe as Harry Potter in \"Harry Potter and the Order of the Phoenix\" To the disappointment of gossip columnists around the world, the young actor says he has no plans to fritter his cash away on fast cars, drink and celebrity parties. \"I don't plan to be one of those people who, as soon as they turn 18, suddenly buy themselves a massive sports car collection or something similar,\" he told an Australian interviewer earlier this month. \"I don't think I'll be particularly extravagant. \"The things I like buying are things that cost about 10 pounds -- books and CDs and DVDs.\" At 18, Radcliffe will be able to gamble in a casino, buy a drink in a pub or see the horror film \"Hostel: Part II,\" currently six places below his number one movie on the UK box office chart. Details of how he'll mark his landmark birthday are under wraps. His agent and publicist had no comment on his plans. \"I'll definitely have some sort of party,\" he said in an interview. \"Hopefully none of you will be reading about it.\" Radcliffe's earnings from the first five Potter films have been held in a trust fund which he has not been able to touch. Despite his growing fame and riches, the actor says he is keeping his feet firmly on the ground. \"People are always looking to say 'kid star goes off the rails,'\" he told reporters last month. \"But I try very hard not to go that way because it would be too easy for them.\" His latest outing as the boy wizard in \"Harry Potter and the Order of the Phoenix\" is breaking records on both sides of the Atlantic and he will reprise the role in the last two films.  Watch I-Reporter give her review of Potter's latest » . There is life beyond Potter, however. The Londoner has filmed a TV movie called \"My Boy Jack,\" about author Rudyard Kipling and his son, due for release later this year. He will also appear in \"December Boys,\" an Australian film about four boys who escape an orphanage. Earlier this year, he made his stage debut playing a tortured teenager in Peter Shaffer's \"Equus.\" Meanwhile, he is braced for even closer media scrutiny now that he's legally an adult: \"I just think I'm going to be more sort of fair game,\" he told Reuters. E-mail to a friend . Copyright 2007 Reuters. All rights reserved.This material may not be published, broadcast, rewritten, or redistributed.\n",
            "\n",
            "Summary:\n",
            "\n",
            "Harry Potter star Daniel Radcliffe gets £20M fortune as he turns 18 Monday .\n",
            "Young actor says he has no plans to fritter his cash away .\n",
            "Radcliffe's earnings from first five Potter films have been held in trust fund .\n"
          ]
        }
      ]
    },
    {
      "cell_type": "code",
      "source": [
        "from transformers import pipeline\n",
        "import torch\n",
        "\n",
        "device = torch.device(\"cuda\" if torch.cuda.is_available() else 'cpu')\n",
        "summary = {}\n",
        "pipe = pipeline('summarization', model = 'ubikpt/t5-small-finetuned-cnn', device=device)\n",
        "output = pipe(dataset[0]['article'])\n",
        "summary['t5-small'] = output[0]['summary_text']\n",
        "\n",
        "pipe = pipeline('summarization', model = 'facebook/bart-large-cnn', device=device)\n",
        "output = pipe(dataset[0]['article'])\n",
        "summary['bart-large'] = output[0]['summary_text']"
      ],
      "metadata": {
        "colab": {
          "base_uri": "https://localhost:8080/"
        },
        "id": "2jWjYejkXvOP",
        "outputId": "055d9075-fa41-4435-cf0a-f41c3e5863db"
      },
      "execution_count": 14,
      "outputs": [
        {
          "output_type": "stream",
          "name": "stderr",
          "text": [
            "Device set to use cpu\n",
            "Token indices sequence length is longer than the specified maximum sequence length for this model (638 > 512). Running this sequence through the model will result in indexing errors\n",
            "Device set to use cpu\n"
          ]
        }
      ]
    },
    {
      "cell_type": "code",
      "source": [
        "for model in summary:\n",
        "    print()\n",
        "    print(model)\n",
        "    print(summary[model])"
      ],
      "metadata": {
        "colab": {
          "base_uri": "https://localhost:8080/"
        },
        "id": "vQunZgK8X0-1",
        "outputId": "82d18b0a-b919-4334-ff04-156e9dda8f48"
      },
      "execution_count": 15,
      "outputs": [
        {
          "output_type": "stream",
          "name": "stdout",
          "text": [
            "\n",
            "t5-small\n",
            "Harry Potter star Daniel Radcliffe says he has no plans to fritter his cash away . The actor has filmed a TV movie about author Rudyard Kipling\n",
            "\n",
            "bart-large\n",
            "Harry Potter star Daniel Radcliffe turns 18 on Monday. He gains access to a reported £20 million ($41.1 million) fortune. Radcliffe's earnings from the first five Potter films have been held in a trust fund. Details of how he'll mark his landmark birthday are under wraps.\n"
          ]
        }
      ]
    },
    {
      "cell_type": "code",
      "source": [
        "# We can see that bart proviced a much more concise summary compared to t5,\n",
        "# and thats probably because the number of params in each model! T5 has only 60 million params while Bart has 406 million params."
      ],
      "metadata": {
        "id": "P6eyBSl8YoVY"
      },
      "execution_count": 16,
      "outputs": []
    },
    {
      "cell_type": "markdown",
      "source": [
        "## 1. Load the Samsum Dialogue Dataset"
      ],
      "metadata": {
        "id": "moO9FNSjarQR"
      }
    },
    {
      "cell_type": "code",
      "source": [
        "samsum = load_dataset(\"knkarthick/samsum\")\n",
        "samsum"
      ],
      "metadata": {
        "colab": {
          "base_uri": "https://localhost:8080/"
        },
        "id": "kU84JMOKZCxv",
        "outputId": "7f832716-8202-474d-ab2b-fcbc387d2ef7"
      },
      "execution_count": 26,
      "outputs": [
        {
          "output_type": "execute_result",
          "data": {
            "text/plain": [
              "DatasetDict({\n",
              "    train: Dataset({\n",
              "        features: ['id', 'dialogue', 'summary'],\n",
              "        num_rows: 14732\n",
              "    })\n",
              "    validation: Dataset({\n",
              "        features: ['id', 'dialogue', 'summary'],\n",
              "        num_rows: 818\n",
              "    })\n",
              "    test: Dataset({\n",
              "        features: ['id', 'dialogue', 'summary'],\n",
              "        num_rows: 819\n",
              "    })\n",
              "})"
            ]
          },
          "metadata": {},
          "execution_count": 26
        }
      ]
    },
    {
      "cell_type": "code",
      "source": [
        "samsum['train'][0]"
      ],
      "metadata": {
        "colab": {
          "base_uri": "https://localhost:8080/"
        },
        "id": "g_d-9TbtbM_O",
        "outputId": "95c3099d-738e-4a18-e4d6-4d76624c634e"
      },
      "execution_count": 30,
      "outputs": [
        {
          "output_type": "execute_result",
          "data": {
            "text/plain": [
              "{'id': '13818513',\n",
              " 'dialogue': \"Amanda: I baked  cookies. Do you want some?\\nJerry: Sure!\\nAmanda: I'll bring you tomorrow :-)\",\n",
              " 'summary': 'Amanda baked cookies and will bring Jerry some tomorrow.'}"
            ]
          },
          "metadata": {},
          "execution_count": 30
        }
      ]
    },
    {
      "cell_type": "code",
      "source": [
        "from datasets import concatenate_datasets, Dataset, DatasetDict\n",
        "import pandas as pd\n",
        "from sklearn.model_selection import train_test_split\n",
        "\n",
        "# 1. Concatenate train, validation, and test\n",
        "full_dataset = concatenate_datasets([\n",
        "    samsum['train'],\n",
        "    samsum['validation'],\n",
        "    samsum['test']\n",
        "])\n",
        "\n",
        "# 2. Convert to DataFrame\n",
        "df = pd.DataFrame(full_dataset)\n",
        "\n",
        "# 3. Show number of None values\n",
        "print(\"Number of None in each column BEFORE cleaning:\")\n",
        "print(df.isnull().sum())\n",
        "\n",
        "# 4. Drop rows with None in dialogue or summary\n",
        "df_clean = df.dropna(subset=['dialogue', 'summary'])\n",
        "\n",
        "print(\"\\nNumber of None AFTER cleaning:\")\n",
        "print(df_clean.isnull().sum())\n",
        "\n",
        "# 5. Re-split into train/val/test (keep original ratios ~80/10/10)\n",
        "train_df, temp_df = train_test_split(df_clean, test_size=0.1, random_state=42)\n",
        "val_df, test_df = train_test_split(temp_df, test_size=0.5, random_state=42)\n",
        "\n",
        "# 6. Convert back to HuggingFace Datasets\n",
        "train_dataset = Dataset.from_pandas(train_df, preserve_index=False)\n",
        "val_dataset   = Dataset.from_pandas(val_df, preserve_index=False)\n",
        "test_dataset  = Dataset.from_pandas(test_df, preserve_index=False)\n",
        "\n",
        "# 7. Wrap into DatasetDict\n",
        "samsum_clean = DatasetDict({\n",
        "    \"train\": train_dataset,\n",
        "    \"validation\": val_dataset,\n",
        "    \"test\": test_dataset\n",
        "})\n"
      ],
      "metadata": {
        "colab": {
          "base_uri": "https://localhost:8080/"
        },
        "id": "25DCRH97fUYu",
        "outputId": "705c375f-6b45-4007-d258-edea743059b0"
      },
      "execution_count": 36,
      "outputs": [
        {
          "output_type": "stream",
          "name": "stdout",
          "text": [
            "Number of None in each column BEFORE cleaning:\n",
            "id          0\n",
            "dialogue    1\n",
            "summary     0\n",
            "dtype: int64\n",
            "\n",
            "Number of None AFTER cleaning:\n",
            "id          0\n",
            "dialogue    0\n",
            "summary     0\n",
            "dtype: int64\n"
          ]
        }
      ]
    },
    {
      "cell_type": "code",
      "source": [
        "samsum_clean"
      ],
      "metadata": {
        "colab": {
          "base_uri": "https://localhost:8080/"
        },
        "id": "ARWf0ixVf4g9",
        "outputId": "518d3fed-e95c-437e-cf37-594e2e5e9d91"
      },
      "execution_count": 37,
      "outputs": [
        {
          "output_type": "execute_result",
          "data": {
            "text/plain": [
              "DatasetDict({\n",
              "    train: Dataset({\n",
              "        features: ['id', 'dialogue', 'summary'],\n",
              "        num_rows: 14731\n",
              "    })\n",
              "    validation: Dataset({\n",
              "        features: ['id', 'dialogue', 'summary'],\n",
              "        num_rows: 818\n",
              "    })\n",
              "    test: Dataset({\n",
              "        features: ['id', 'dialogue', 'summary'],\n",
              "        num_rows: 819\n",
              "    })\n",
              "})"
            ]
          },
          "metadata": {},
          "execution_count": 37
        }
      ]
    },
    {
      "cell_type": "code",
      "source": [
        "dialogue_len = [len(x['dialogue'].split()) for x in samsum_clean['train']]\n",
        "summary_len = [len(x['summary'].split()) for x in samsum_clean['train']]"
      ],
      "metadata": {
        "id": "RjjhEcmLctxW"
      },
      "execution_count": 38,
      "outputs": []
    },
    {
      "cell_type": "code",
      "source": [
        "import pandas as pd\n",
        "\n",
        "data = pd.DataFrame([dialogue_len, summary_len]).T\n",
        "data.columns = ['Dialogue Length', 'Summary Length']\n",
        "\n",
        "data.hist(figsize=(10,3));"
      ],
      "metadata": {
        "colab": {
          "base_uri": "https://localhost:8080/",
          "height": 314
        },
        "id": "tqv-5gJWdTfK",
        "outputId": "8f651ae0-7043-47f3-a4ac-6d1a1aa101d9"
      },
      "execution_count": 40,
      "outputs": [
        {
          "output_type": "display_data",
          "data": {
            "text/plain": [
              "<Figure size 1000x300 with 2 Axes>"
            ],
            "image/png": "[encoded data removed]"
          },
          "metadata": {}
        }
      ]
    },
    {
      "cell_type": "markdown",
      "source": [
        "## 2. Tokenization"
      ],
      "metadata": {
        "id": "0Wda_cDXgmf-"
      }
    },
    {
      "cell_type": "code",
      "source": [
        "from transformers import AutoTokenizer, AutoModelForSeq2SeqLM\n",
        "\n",
        "model_ckpt = 't5-small'\n",
        "tokenizer = AutoTokenizer.from_pretrained(model_ckpt)\n",
        "model = AutoModelForSeq2SeqLM.from_pretrained(model_ckpt).to(device)"
      ],
      "metadata": {
        "id": "uSpjfmP0gHlg"
      },
      "execution_count": null,
      "outputs": []
    },
    {
      "cell_type": "code",
      "source": [
        "samsum_clean['train'][1]"
      ],
      "metadata": {
        "colab": {
          "base_uri": "https://localhost:8080/"
        },
        "id": "of8xobr_gmTh",
        "outputId": "2abbd7c0-a0e9-45fc-ae9a-d3db1a77f3e0"
      },
      "execution_count": 44,
      "outputs": [
        {
          "output_type": "execute_result",
          "data": {
            "text/plain": [
              "{'id': '13829903',\n",
              " 'dialogue': 'Agnes: Does Ann have a birthday today?\\nMona: No, next Wednesday\\nAgnes: I had to make a mistake.\\nAgnes: Thanks!',\n",
              " 'summary': 'Ann has a birthday next Wednesday. '}"
            ]
          },
          "metadata": {},
          "execution_count": 44
        }
      ]
    },
    {
      "cell_type": "code",
      "source": [
        "tokenizer(samsum_clean['train'][0]['dialogue'], text_target=samsum_clean['train'][0]['summary'], return_tensors='pt')"
      ],
      "metadata": {
        "colab": {
          "base_uri": "https://localhost:8080/"
        },
        "id": "QHhOQH6_gxLg",
        "outputId": "ba4653aa-c251-4878-f5b0-e580ee6bc6b4"
      },
      "execution_count": 45,
      "outputs": [
        {
          "output_type": "execute_result",
          "data": {
            "text/plain": [
              "{'input_ids': tensor([[  276, 22648,    10,  2114,    25,   608,    96, 24151, 20364,    58,\n",
              "          8208,   509,    10,   955,  2091,    58,   276, 22648,    10,  4273,\n",
              "          8208,   509,    10,   417,     6,    62,   608,    34,    16,  2061,\n",
              "           270,   480, 15809,    10,    27,    31,   162,   470,   608,    34,\n",
              "             6, 12855,  6308,    15,    10,    27,   410,     6,    34,    31,\n",
              "             7,     3,     9,   182,   207,   484,   276, 22648,    10,  8611,\n",
              "           845,    78,  6308,    15,    10,   608,    34,     6,    25,   751,\n",
              "            31,    17,  9867,     1]]), 'attention_mask': tensor([[1, 1, 1, 1, 1, 1, 1, 1, 1, 1, 1, 1, 1, 1, 1, 1, 1, 1, 1, 1, 1, 1, 1, 1,\n",
              "         1, 1, 1, 1, 1, 1, 1, 1, 1, 1, 1, 1, 1, 1, 1, 1, 1, 1, 1, 1, 1, 1, 1, 1,\n",
              "         1, 1, 1, 1, 1, 1, 1, 1, 1, 1, 1, 1, 1, 1, 1, 1, 1, 1, 1, 1, 1, 1, 1, 1,\n",
              "         1, 1]]), 'labels': tensor([[  276, 22648,     6,  8208,   509,    11,  6308,    15,   608,   955,\n",
              "          2091,    31,     7,    96, 24151, 20364,     5,   480, 15809,    31,\n",
              "             7,   470,   608,    34,     5,     1]])}"
            ]
          },
          "metadata": {},
          "execution_count": 45
        }
      ]
    },
    {
      "cell_type": "code",
      "source": [
        "def tokenize(batch):\n",
        "    encoding = tokenizer(batch['dialogue'], text_target=batch['summary'], max_length=200, truncation=True, padding=True, return_tensors='pt')\n",
        "\n",
        "    return encoding"
      ],
      "metadata": {
        "id": "MkN3We8_hMkI"
      },
      "execution_count": 46,
      "outputs": []
    },
    {
      "cell_type": "code",
      "source": [
        "samsum_pt = samsum_clean.map(tokenize, batched=True, batch_size=None)"
      ],
      "metadata": {
        "id": "ffiRheF6hSBE"
      },
      "execution_count": null,
      "outputs": []
    },
    {
      "cell_type": "code",
      "source": [
        "samsum_pt"
      ],
      "metadata": {
        "colab": {
          "base_uri": "https://localhost:8080/"
        },
        "id": "g4QPnFZ9hVai",
        "outputId": "cd81d91a-0fe0-409e-fe94-66995f99fe91"
      },
      "execution_count": 48,
      "outputs": [
        {
          "output_type": "execute_result",
          "data": {
            "text/plain": [
              "DatasetDict({\n",
              "    train: Dataset({\n",
              "        features: ['id', 'dialogue', 'summary', 'input_ids', 'attention_mask', 'labels'],\n",
              "        num_rows: 14731\n",
              "    })\n",
              "    validation: Dataset({\n",
              "        features: ['id', 'dialogue', 'summary', 'input_ids', 'attention_mask', 'labels'],\n",
              "        num_rows: 818\n",
              "    })\n",
              "    test: Dataset({\n",
              "        features: ['id', 'dialogue', 'summary', 'input_ids', 'attention_mask', 'labels'],\n",
              "        num_rows: 819\n",
              "    })\n",
              "})"
            ]
          },
          "metadata": {},
          "execution_count": 48
        }
      ]
    },
    {
      "cell_type": "code",
      "source": [],
      "metadata": {
        "id": "suRcvcE4hemU"
      },
      "execution_count": null,
      "outputs": []
    }
  ]
}